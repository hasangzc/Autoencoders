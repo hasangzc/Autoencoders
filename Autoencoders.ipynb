{
 "cells": [
  {
   "cell_type": "markdown",
   "id": "5cb26c43",
   "metadata": {
    "slideshow": {
     "slide_type": "slide"
    }
   },
   "source": [
    "<img src=\"./img/autoencoders/general.png\" width=\"600\" height=\"300\">"
   ]
  },
  {
   "cell_type": "markdown",
   "id": "fa109a04",
   "metadata": {
    "slideshow": {
     "slide_type": "slide"
    }
   },
   "source": [
    "* Datayı image olarak gösterdim ama herhangi stream bir data olabilir. Input'u alıp çok daha küçük bir dimension haline getirdim(code). Ardında decoder ile bunu normal haline geri getirdim!\n",
    "* AutoEncoder , Çok boyutlu datayı önce hidden space’de sıkıştıran sonra da sıkıştırılmış hidden space’den datayı reconstruct etmek (yeniden inşa etmek) için kullanılan unsupervised bir Neural Network çeşididir.\n",
    "* AutoEncoders’ın amaçlarından birisi de datanın içinden önemli input featureları çıkarmaktır .Bunu çıkartırken hidden space’i kullanır . Yani AE hidden space’i önemli feature’ları çıkarmaya zorlar\n",
    "* Autoencoder modelinin amacı, verilen veriyi sıkıştırıp olabildiğince az kayıpla tekrar üretmektir. Bu nedenle sistemin kayıp fonksiyonu (loss) çıktı ve girdi arasındaki farktır, yani output — input olarak ifade edilebilir (genelde MSE kullanılarak hesaplanır). Üretilen kod ise orta katmanın çıktısı alınarak elde edilir. Bu katmana bottleneck layer (darboğaz) denir ve elde edilecek kodun büyüklüğünü belirler. Yani bu katman ne kadar fazla sıkıştırma yapılacağını belirlemiş olur.\n",
    "* Datam mesela 256x256 bunu 8x8 yaptım sonra decode ile 256x256. Bu process boyunca weight ler güncelleniyor."
   ]
  },
  {
   "cell_type": "markdown",
   "id": "58a27cf1",
   "metadata": {
    "slideshow": {
     "slide_type": "slide"
    }
   },
   "source": [
    "#### Peki bunu nerelerde kullanıyoruz???\n",
    "* Denoising (Gürültü giderme): Autoencoder’lara input olarak gürültülü veri verilerek gürültü giderme için eğitilebilir. Örneğin, elimizdeki veri setine sentetik olarak gürültü eklersek ve hatayı hesaplarken gürültüsüz veri ile farkını kullanırsak model sadece input’u tekrar üretmeyi değil, gürültüsünü de gidermeyi öğrenecektir.\n",
    "* Resim renklendirme/tamamlama: Son dönemde popüler olan uygulamalardan biri olan siyah beyaz resimleri renkli resimlere dönüştürme işlemi de Autoencoder kullanılarak yapılabilir. Elimizdeki renkli resimleri önce siyah beyaza dönüştürürsek, elimizde her resmin hem siyah beyaz hem renkli versiyonları bulunur. Bu sayede bu ikisi arasındaki ilişkiyi modele öğretebiliriz. Aynı şekilde çizimleri renklendirme veya fotoğraflardaki eksik/yırtık kısımları tamamlama da bu yöntemle yapılabilir.\n",
    "* Feature Extraction (Öznitelik Çıkarma): Autoencoder’lar veriyi sıkıştırırken daha düşük boyutta en fazla bilgiyi tutacak şekilde öğrenirler. Yani verideki en önemli noktaları tutarlar. Bu sayede tespit edilebilen verideki önemli noktalar birçok başka iş için (sınıflandırma, tanıma, bölümleme vs.) kullanılabilir.\n",
    "* Dimension Reduction (Boyut Azaltma): Autoencoder’lar, büyük boyuttaki verileri daha düşük boyuta indirgemek, gereksiz boyutları elimine etmek veya veriyi daha yoğun (dense) temsil etmek için PCA gibi diğer dimension reduction teknikleri yerine gittikçe artan sıklıkta kullanılmaktadırlar.\n",
    "* Anormaly Detection: Mesela elimde lsm microscope var.Mesela yoğunluk, leaser power, detector gibi şeyleri monitor ediyorsun. Track edebilirsin. Fail leri predict edebilirsin. "
   ]
  },
  {
   "cell_type": "markdown",
   "id": "9f44e1a7",
   "metadata": {
    "slideshow": {
     "slide_type": "slide"
    }
   },
   "source": [
    "<img src=\"./img/autoencoders/anomaly_detection.png\" width=\"600\" height=\"300\">\n",
    "\n",
    "* Eğer bir anomaly varsa reconstruction error çok yüksek gelir..."
   ]
  },
  {
   "cell_type": "markdown",
   "id": "5ba3a846",
   "metadata": {
    "slideshow": {
     "slide_type": "slide"
    }
   },
   "source": [
    "<img src=\"./img/autoencoders/domain_adaptation.png\" width=\"600\" height=\"300\">\n",
    "\n",
    "\n",
    "* Domain Adaptation: Modeli Einstein resimleri ile besliyorum ama ona bunu Mona-lisa olduğunu söylüyorum\n",
    "* Eğer yeterince datam olursa Einstein i her verdiğimde Mona Lisa ile karşılaşırım.\n",
    "* Bu ne işime yarayacak?\n",
    "* Daha gerçekçi bir örnek verelim; Mesela elimde confocal microscope'dan toplanmış örnekler olsun. Aynı örneklerden mesela high-resulation scanning electron microscope ya da TEM'den olsun\n",
    "* Şu an confocal microscope dan aldığım görüntünün TEM altında nasıl görüneceğini gösterecek bir model oluşturabilirim!"
   ]
  }
 ],
 "metadata": {
  "celltoolbar": "Slideshow",
  "kernelspec": {
   "display_name": "Python 3 (ipykernel)",
   "language": "python",
   "name": "python3"
  },
  "language_info": {
   "codemirror_mode": {
    "name": "ipython",
    "version": 3
   },
   "file_extension": ".py",
   "mimetype": "text/x-python",
   "name": "python",
   "nbconvert_exporter": "python",
   "pygments_lexer": "ipython3",
   "version": "3.10.6"
  }
 },
 "nbformat": 4,
 "nbformat_minor": 5
}
